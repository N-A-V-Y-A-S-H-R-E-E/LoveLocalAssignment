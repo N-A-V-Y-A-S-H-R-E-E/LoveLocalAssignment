{
 "cells": [
  {
   "cell_type": "code",
   "execution_count": 1,
   "metadata": {},
   "outputs": [
    {
     "name": "stdout",
     "output_type": "stream",
     "text": [
      "6\n",
      "0\n"
     ]
    }
   ],
   "source": [
    "def countDigitOne(n):\n",
    "    count = 0\n",
    "    factor = 1\n",
    "    i = 1\n",
    "    \n",
    "    while i <= n:\n",
    "        divider = i * 10\n",
    "        count += (n // divider) * i + min(max(n % divider - i + 1, 0), i)\n",
    "        i *= 10\n",
    "    \n",
    "    return count\n",
    "\n",
    "n1 = 13\n",
    "print(countDigitOne(n1)) \n",
    "\n",
    "n2 = 0\n",
    "print(countDigitOne(n2))"
   ]
  }
 ],
 "metadata": {
  "kernelspec": {
   "display_name": "Python 3",
   "language": "python",
   "name": "python3"
  },
  "language_info": {
   "codemirror_mode": {
    "name": "ipython",
    "version": 3
   },
   "file_extension": ".py",
   "mimetype": "text/x-python",
   "name": "python",
   "nbconvert_exporter": "python",
   "pygments_lexer": "ipython3",
   "version": "3.11.4"
  }
 },
 "nbformat": 4,
 "nbformat_minor": 2
}
