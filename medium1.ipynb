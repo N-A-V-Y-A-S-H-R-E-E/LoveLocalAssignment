{
 "cells": [
  {
   "cell_type": "code",
   "execution_count": 1,
   "metadata": {},
   "outputs": [
    {
     "name": "stdout",
     "output_type": "stream",
     "text": [
      "6\n",
      "2\n",
      "2\n"
     ]
    }
   ],
   "source": [
    "class TreeNode:\n",
    "    def __init__(self, val=0, left=None, right=None):\n",
    "        self.val = val\n",
    "        self.left = left\n",
    "        self.right = right\n",
    "\n",
    "def lowestCommonAncestor(root, p, q):\n",
    "    if p.val < root.val and q.val < root.val:\n",
    "        return lowestCommonAncestor(root.left, p, q)\n",
    "    elif p.val > root.val and q.val > root.val:\n",
    "        return lowestCommonAncestor(root.right, p, q)\n",
    "\n",
    "\n",
    "    else:\n",
    "        return root\n",
    "\n",
    "root = TreeNode(6)\n",
    "root.left = TreeNode(2)\n",
    "root.right = TreeNode(8)\n",
    "root.left.left = TreeNode(0)\n",
    "root.left.right = TreeNode(4)\n",
    "root.right.left = TreeNode(7)\n",
    "root.right.right = TreeNode(9)\n",
    "root.left.right.left = TreeNode(3)\n",
    "root.left.right.right = TreeNode(5)\n",
    "\n",
    "p1 = TreeNode(2)\n",
    "q1 = TreeNode(8)\n",
    "print(lowestCommonAncestor(root, p1, q1).val) \n",
    "\n",
    "\n",
    "p2 = TreeNode(2)\n",
    "q2 = TreeNode(4)\n",
    "print(lowestCommonAncestor(root, p2, q2).val)  \n",
    "\n",
    "# Example 3:\n",
    "root2 = TreeNode(2)\n",
    "root2.left = TreeNode(1)\n",
    "p3 = TreeNode(2)\n",
    "q3 = TreeNode(1)\n",
    "print(lowestCommonAncestor(root2, p3, q3).val)  \n"
   ]
  }
 ],
 "metadata": {
  "kernelspec": {
   "display_name": "Python 3",
   "language": "python",
   "name": "python3"
  },
  "language_info": {
   "codemirror_mode": {
    "name": "ipython",
    "version": 3
   },
   "file_extension": ".py",
   "mimetype": "text/x-python",
   "name": "python",
   "nbconvert_exporter": "python",
   "pygments_lexer": "ipython3",
   "version": "3.11.4"
  }
 },
 "nbformat": 4,
 "nbformat_minor": 2
}
